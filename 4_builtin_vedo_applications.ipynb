{
 "cells": [
  {
   "attachments": {},
   "cell_type": "markdown",
   "metadata": {},
   "source": [
    "### Built-in vedo applications\n",
    "\n",
    "Vedo come with an impressive gallery of examples, have a look at these on their website : https://vedo.embl.es/\n",
    "A good way to use vedo is to copy/paste code of one of them and modify it to make it run on your data. A powerful feature of vedo is the applications module https://vedo.embl.es/docs/vedo/applications.html, it provides you ready-to-use applications that can be useful for scientific visualization, this notebooks presents some examples\n",
    "\n",
    "Take-home message :\n",
    "- Vedo offers incredible visualization/interaction tools"
   ]
  },
  {
   "cell_type": "code",
   "execution_count": 6,
   "metadata": {},
   "outputs": [
    {
     "ename": "TypeError",
     "evalue": "play() got an unexpected keyword argument 'dt'",
     "output_type": "error",
     "traceback": [
      "\u001b[0;31m---------------------------------------------------------------------------\u001b[0m",
      "\u001b[0;31mTypeError\u001b[0m                                 Traceback (most recent call last)",
      "Cell \u001b[0;32mIn[6], line 10\u001b[0m\n\u001b[1;32m      8\u001b[0m application \u001b[39m=\u001b[39m vedo\u001b[39m.\u001b[39mapplications\u001b[39m.\u001b[39mBrowser(meshes) \u001b[39m# Create a Browser application with the sequence of meshes\u001b[39;00m\n\u001b[1;32m      9\u001b[0m application\u001b[39m.\u001b[39mshow() \u001b[39m# Here we must call .show() to start the rendering window\u001b[39;00m\n\u001b[0;32m---> 10\u001b[0m application\u001b[39m.\u001b[39;49mplay(dt \u001b[39m=\u001b[39;49m \u001b[39m50\u001b[39;49m) \u001b[39m# Start the animation\u001b[39;00m\n",
      "\u001b[0;31mTypeError\u001b[0m: play() got an unexpected keyword argument 'dt'"
     ]
    }
   ],
   "source": [
    "import vedo\n",
    "\n",
    "vedo.settings.default_backend = \"vtk\"\n",
    "import pyvista.examples\n",
    "\n",
    "mesh = vedo.load(\n",
    "    vedo.dataurl + \"beethoven.ply\"\n",
    ")  # Load a mesh from vedo data repository\n",
    "meshes = [\n",
    "    mesh.clone().triangulate().decimate(a) for a in [0.9, 0.5, 0.1, 0.05, 0.01]\n",
    "]  # Compute a sequence of decimated meshes\n",
    "\n",
    "application = vedo.applications.Browser(\n",
    "    meshes\n",
    ")  # Create a Browser application with the sequence of meshes\n",
    "application.show()  # Here we must call .show() to start the rendering window"
   ]
  },
  {
   "cell_type": "code",
   "execution_count": 7,
   "metadata": {},
   "outputs": [
    {
     "data": {
      "text/plain": [
       "<vedo.applications.Slicer3DPlotter at 0x7fde0867d400>"
      ]
     },
     "execution_count": 7,
     "metadata": {},
     "output_type": "execute_result"
    }
   ],
   "source": [
    "volume = vedo.load(\"data/abdominal_xw_t2hastetra2stepmbh3202A.nii\")\n",
    "vedo.applications.Slicer3DPlotter(volume)\n",
    "# Here we do not need to call .show()"
   ]
  },
  {
   "cell_type": "code",
   "execution_count": 8,
   "metadata": {},
   "outputs": [
    {
     "name": "stdout",
     "output_type": "stream",
     "text": [
      "Added point: (2.595, -2.292, 0.8674)\n",
      "Added point: (-0.3149, -4.006, 1.760)\n",
      "Added point: (-3.275, -2.950, 0.5766)\n",
      "Added point: (-1.057, -0.3457, 0.9122)\n",
      "Added point: (-0.2284, 1.682, 2.230)\n",
      "Added point: (-0.4937, 3.632, 2.940)\n",
      "Added point: (1.860, 3.571, 2.514)\n",
      "Added point: (1.756, 1.830, 0.9267)\n",
      "Added point: (0.6960, -3.514e-3, 1.424)\n",
      "Added point: (0.6974, -1.390, 1.135)\n",
      "Added point: (1.096, -2.397, 1.619)\n",
      "Added point: (3.969, -1.425, -0.5573)\n",
      "Deleted last point\n",
      "Deleted last point\n",
      "Deleted last point\n",
      "Deleted last point\n",
      "Deleted last point\n",
      "[[ 2.59530574 -2.29228062  0.86735785]\n",
      " [-0.31494776 -4.00615198  1.75979309]\n",
      " [-3.27496736 -2.94951228  0.57663324]\n",
      " [-1.05705977 -0.34565114  0.91219399]\n",
      " [-0.22839265  1.6816687   2.22991953]\n",
      " [-0.49368173  3.63178469  2.94006003]\n",
      " [ 1.85963913  3.57104133  2.51386635]]\n"
     ]
    }
   ],
   "source": [
    "application = vedo.applications.SplinePlotter(mesh.c(\"blue\").alpha(0.5))\n",
    "application.start()\n",
    "\n",
    "print(application.points())"
   ]
  }
 ],
 "metadata": {
  "kernelspec": {
   "display_name": "pyvista_presentation",
   "language": "python",
   "name": "python3"
  },
  "language_info": {
   "codemirror_mode": {
    "name": "ipython",
    "version": 3
   },
   "file_extension": ".py",
   "mimetype": "text/x-python",
   "name": "python",
   "nbconvert_exporter": "python",
   "pygments_lexer": "ipython3",
   "version": "3.8.10"
  },
  "orig_nbformat": 4,
  "vscode": {
   "interpreter": {
    "hash": "3aef563776c0941b406a686acb68c05e52eb2d250e80683d4c9fd2ea031b91ff"
   }
  }
 },
 "nbformat": 4,
 "nbformat_minor": 2
}

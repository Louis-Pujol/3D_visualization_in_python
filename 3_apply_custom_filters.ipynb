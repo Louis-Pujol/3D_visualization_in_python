{
 "cells": [
  {
   "attachments": {},
   "cell_type": "markdown",
   "metadata": {},
   "source": [
    "### Applying any transformation\n",
    "\n",
    "In this notebook, we will apply some custom transformations on a mesh. By custom filter I mean any numerical manipulation you may want to apply to a 3D object.\n",
    "\n",
    "Take-home messages :\n",
    "- You can modify the position of the points of a mesh by considering it as a numpy array\n",
    "- You can also modify the topological structure if a mesh : pyVista and vedo have different ways of representing the faces of a mesh\n",
    "- You can modify as you want the pixels/voxels value for an image data\n",
    "- ...\n",
    "\n",
    "\n",
    "References\n",
    "- pyVista user guide data model : https://docs.pyvista.org/version/stable/user-guide/data_model.html\n",
    "- vedo doc on different geometric objects https://vedo.embl.es/docs/vedo/mesh.html https://vedo.embl.es/docs/vedo/picture.html https://vedo.embl.es/docs/vedo/volume.html"
   ]
  },
  {
   "cell_type": "code",
   "execution_count": 1,
   "metadata": {},
   "outputs": [
    {
     "data": {
      "application/vnd.jupyter.widget-view+json": {
       "model_id": "8dced7af23f4437f97f9166f4af9f7d0",
       "version_major": 2,
       "version_minor": 0
      },
      "text/plain": [
       "Widget(value=\"<iframe src='http://localhost:42537/index.html?ui=P_0x7ff9fc3106d0_0&reconnect=auto' style='widt…"
      ]
     },
     "metadata": {},
     "output_type": "display_data"
    }
   ],
   "source": [
    "import pyvista\n",
    "import numpy as np\n",
    "\n",
    "mesh = pyvista.read(\"data/amygdala1.vtk\").decimate(0.98)  # Load mesh and decimate it\n",
    "\n",
    "translation = np.array([2, 3, 7])  # Define a translation vector\n",
    "translated_mesh = mesh.copy()  # Copy the mesh\n",
    "translated_mesh.points += translation  # Translate the mesh by modifying its points\n",
    "\n",
    "\n",
    "mesh_with_holes = mesh.copy()  # Copy the mesh\n",
    "# How triangles are encoded in pyVista ?\n",
    "# There are stored in a list of integer organized as follow:\n",
    "# [n0, p0_0, p0_1, ..., p0_n, n1, p1_0, p1_1, ..., p1_n, ...]\n",
    "# where n0 is the number of points in face 0, and pX_Y is the Y’th point in face X.\n",
    "# this notation allows to store faces with different number of points.\n",
    "# We can check that a mesh is only composed of triangles by calling mesh.is_all_triangles()\n",
    "#\n",
    "# https://docs.pyvista.org/version/stable/api/core/_autosummary/pyvista.PolyData.faces.html\n",
    "\n",
    "mesh_with_holes.faces = mesh.faces[\n",
    "    4:-4\n",
    "]  # Remove the first and last triangles by removing the first and last 4 integers\n",
    "\n",
    "# Plot the results\n",
    "p = pyvista.Plotter(shape=(1, 2))\n",
    "p.subplot(0, 0)\n",
    "p.add_mesh(mesh, color=\"red\", opacity=0.6, show_edges=False)\n",
    "p.add_mesh(translated_mesh, opacity=0.6, show_edges=True)\n",
    "p.subplot(0, 1)\n",
    "p.add_mesh(mesh_with_holes, show_edges=True)\n",
    "p.show()"
   ]
  },
  {
   "cell_type": "code",
   "execution_count": 2,
   "metadata": {},
   "outputs": [
    {
     "data": {
      "text/plain": [
       "<vedo.plotter.Plotter at 0x7ffa5c4d2880>"
      ]
     },
     "execution_count": 2,
     "metadata": {},
     "output_type": "execute_result"
    }
   ],
   "source": [
    "import vedo\n",
    "\n",
    "vedo.settings.default_backend = \"vtk\"\n",
    "import numpy as np\n",
    "\n",
    "mesh = vedo.load(\"data/amygdala1.vtk\").decimate(0.02)\n",
    "\n",
    "translation = np.array([2, 3, 7])\n",
    "translated_mesh = mesh.clone()\n",
    "\n",
    "points = translated_mesh.points()\n",
    "translated_mesh.points(points + translation)\n",
    "# .points() can be used to get or set the points of a mesh\n",
    "\n",
    "\n",
    "triangles = mesh.faces()\n",
    "# In vedo the faces are stored as a list of list of integer\n",
    "# [[p0_0, p0_1, ..., p0_n], [p1_0, p1_1, ..., p1_n], ...]\n",
    "# where pX_Y is the Y’th point in face X.\n",
    "# For a triangle mesh, faces is a list of list of 3 integers\n",
    "\n",
    "reduced_triangles = triangles[\n",
    "    1:-1\n",
    "]  # Remove the first and last triangles by removing the first and last elements of triangles\n",
    "# mesh_with_holes.faces(triangles) <- doesn't work\n",
    "# .faces() cannot be used to set the faces of a mesh, we must recreate the mesh with the new faces\n",
    "\n",
    "mesh_with_holes = vedo.Mesh(\n",
    "    [points + translation, reduced_triangles]\n",
    ")  # Create a new mesh with the new points and faces\n",
    "\n",
    "\n",
    "# Plot the results\n",
    "plotter = vedo.Plotter(shape=(1, 2), axes=0, sharecam=False, interactive=True)\n",
    "plotter.add(mesh.c(\"red\").alpha(0.6), at=0)\n",
    "plotter.add(translated_mesh.linewidth(1).alpha(0.6), at=0)\n",
    "plotter.add(mesh_with_holes.linewidth(1), at=1)\n",
    "plotter.show()"
   ]
  },
  {
   "cell_type": "code",
   "execution_count": 5,
   "metadata": {},
   "outputs": [
    {
     "data": {
      "text/html": [
       "<table><tr><th>Header</th><th>Data Arrays</th></tr><tr><td>\n",
       "<table>\n",
       "<tr><th>UniformGrid</th><th>Information</th></tr>\n",
       "<tr><td>N Cells</td><td>82632</td></tr>\n",
       "<tr><td>N Points</td><td>83210</td></tr>\n",
       "<tr><td>X Bounds</td><td>0.000e+00, 2.640e+02</td></tr>\n",
       "<tr><td>Y Bounds</td><td>0.000e+00, 3.130e+02</td></tr>\n",
       "<tr><td>Z Bounds</td><td>0.000e+00, 0.000e+00</td></tr>\n",
       "<tr><td>Dimensions</td><td>265, 314, 1</td></tr>\n",
       "<tr><td>Spacing</td><td>1.000e+00, 1.000e+00, 1.000e+00</td></tr>\n",
       "<tr><td>N Arrays</td><td>1</td></tr>\n",
       "</table>\n",
       "\n",
       "</td><td>\n",
       "<table>\n",
       "<tr><th>Name</th><th>Field</th><th>Type</th><th>N Comp</th><th>Min</th><th>Max</th></tr>\n",
       "<tr><td><b>PNGImage</b></td><td>Points</td><td>uint8</td><td>4</td><td>0.000e+00</td><td>2.550e+02</td></tr>\n",
       "</table>\n",
       "\n",
       "</td></tr> </table>"
      ],
      "text/plain": [
       "UniformGrid (0x7ffa2d9e51c0)\n",
       "  N Cells:      82632\n",
       "  N Points:     83210\n",
       "  X Bounds:     0.000e+00, 2.640e+02\n",
       "  Y Bounds:     0.000e+00, 3.130e+02\n",
       "  Z Bounds:     0.000e+00, 0.000e+00\n",
       "  Dimensions:   265, 314, 1\n",
       "  Spacing:      1.000e+00, 1.000e+00, 1.000e+00\n",
       "  N Arrays:     1"
      ]
     },
     "execution_count": 5,
     "metadata": {},
     "output_type": "execute_result"
    }
   ],
   "source": [
    "image = pyvista.read(\"data/Tux.png\")  # Load the image\n",
    "image"
   ]
  },
  {
   "cell_type": "code",
   "execution_count": 3,
   "metadata": {},
   "outputs": [
    {
     "name": "stdout",
     "output_type": "stream",
     "text": [
      "Arrays names are : ['PNGImage']\n"
     ]
    },
    {
     "data": {
      "application/vnd.jupyter.widget-view+json": {
       "model_id": "7baf99086bff4b798c899f3fa3f3e781",
       "version_major": 2,
       "version_minor": 0
      },
      "text/plain": [
       "Widget(value=\"<iframe src='http://localhost:42537/index.html?ui=P_0x7ffa5c5025e0_1&reconnect=auto' style='widt…"
      ]
     },
     "metadata": {},
     "output_type": "display_data"
    }
   ],
   "source": [
    "image = pyvista.read(\"data/Tux.png\")  # Load the image\n",
    "\n",
    "# Get the array names\n",
    "# An image is a UniformGrid with a single array\n",
    "# The array contains the color of each pixel\n",
    "print(\"Arrays names are : {}\".format(image.array_names))\n",
    "image.get_array(\"PNGImage\").shape\n",
    "\n",
    "new_image = image.copy()  # Copy the image\n",
    "\n",
    "new_image.get_array(\"PNGImage\")[:, 0:3] = (\n",
    "    255 - image.get_array(\"PNGImage\")[:, 0:3]\n",
    ")  # Invert the colors\n",
    "# The last dimension of the array is the transparency\n",
    "\n",
    "# Plot the results\n",
    "p = pyvista.Plotter(shape=(1, 2))\n",
    "p.subplot(0, 0)\n",
    "p.add_mesh(image, rgb=True)\n",
    "p.subplot(0, 1)\n",
    "p.add_mesh(new_image, rgb=True)\n",
    "p.show()"
   ]
  }
 ],
 "metadata": {
  "kernelspec": {
   "display_name": "pyvista_presentation",
   "language": "python",
   "name": "python3"
  },
  "language_info": {
   "codemirror_mode": {
    "name": "ipython",
    "version": 3
   },
   "file_extension": ".py",
   "mimetype": "text/x-python",
   "name": "python",
   "nbconvert_exporter": "python",
   "pygments_lexer": "ipython3",
   "version": "3.8.10"
  },
  "orig_nbformat": 4,
  "vscode": {
   "interpreter": {
    "hash": "3aef563776c0941b406a686acb68c05e52eb2d250e80683d4c9fd2ea031b91ff"
   }
  }
 },
 "nbformat": 4,
 "nbformat_minor": 2
}

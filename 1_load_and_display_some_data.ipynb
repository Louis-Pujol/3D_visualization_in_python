{
 "cells": [
  {
   "attachments": {},
   "cell_type": "markdown",
   "metadata": {},
   "source": [
    "### Load and display some data\n",
    "\n",
    "In this notebook we will :\n",
    "- load some files of different nature with PyVista.read and vedo.load\n",
    "- Display them side by side on the same window\n",
    "\n",
    "Take-home messages :\n",
    "- PyVista and vedo let you load and display a variety of 3D objects\n",
    "- in PyVista, you have a separation between the geometric object (PolyData or Grid) and its rendering (Actor)\n",
    "- in vedo, the same object incorporate geometric and rendering informations\n",
    "- (personnal opinion) the subplots interface of vedo seems less cear to me (see the last two cells of this notebook)\n",
    "\n",
    "References :\n",
    "- PyVista Readers provides you a list of file format that you van read in PyVista : https://docs.pyvista.org/version/stable/api/readers/index.html (I did not find something similar for vedo)\n",
    "- PyVista Plotter comes with many rendering options : https://docs.pyvista.org/version/stable/api/plotting/_autosummary/pyvista.Plotter.html\n",
    "- PyVista Actor object let you set the rendering properties of a given actor : https://docs.pyvista.org/version/stable/api/plotting/_autosummary/pyvista.Actor.html\n",
    "- In Vedo, the rendering options are on the documentation specific to each object type : https://vedo.embl.es/docs/vedo/mesh.html https://vedo.embl.es/docs/vedo/picture.html https://vedo.embl.es/docs/vedo/volume.html"
   ]
  },
  {
   "cell_type": "code",
   "execution_count": 1,
   "metadata": {},
   "outputs": [
    {
     "name": "stdout",
     "output_type": "stream",
     "text": [
      "Image is of type  <class 'pyvista.core.grid.UniformGrid'>\n",
      "Volume is of type  <class 'pyvista.core.grid.UniformGrid'>\n",
      "Mesh is of type  <class 'pyvista.core.pointset.PolyData'>\n"
     ]
    }
   ],
   "source": [
    "import pyvista\n",
    "\n",
    "# Load the data\n",
    "# pyvista.read automatically detects the file type and loads a pyvista object accordingly\n",
    "image = pyvista.read(\"data/Tux.png\")\n",
    "volume = pyvista.read(\"data/abdominal_xw_t2hastetra2stepmbh3202A.nii\")\n",
    "mesh = pyvista.read(\"data/amygdala1.vtk\")\n",
    "\n",
    "# In PyVista, 2D and 3D images are represented by the same class (UniformaGrid)\n",
    "# and polygonal data (points clouds, wireframes, surfaces, etc.) are represented by the same class (PolyData)\n",
    "print(\"Image is of type \", type(image))\n",
    "print(\"Volume is of type \", type(volume))\n",
    "print(\"Mesh is of type \", type(mesh))"
   ]
  },
  {
   "cell_type": "code",
   "execution_count": 2,
   "metadata": {},
   "outputs": [
    {
     "data": {
      "application/vnd.jupyter.widget-view+json": {
       "model_id": "cb67a8fac7ed4220b2579b58dd2a6f81",
       "version_major": 2,
       "version_minor": 0
      },
      "text/plain": [
       "Widget(value=\"<iframe src='http://localhost:44823/index.html?ui=P_0x7feff2cb0430_0&reconnect=auto' style='widt…"
      ]
     },
     "metadata": {},
     "output_type": "display_data"
    }
   ],
   "source": [
    "# Plot the data\n",
    "p = pyvista.Plotter(shape=(1, 3))  # Create a plotter with 1 row and 3 columns\n",
    "\n",
    "p.subplot(0, 0)  # Select the first subplot\n",
    "p.add_mesh(image, rgb=True)  # rgb=True is required to display the image in color\n",
    "p.add_text(\"Image\")  # Add a title to the subplot\n",
    "\n",
    "p.subplot(0, 1)  # Select the second subplot\n",
    "p.add_volume(volume, cmap=\"bone\", opacity=\"sigmoid\")\n",
    "# cmap and opacity are useful for volume rendering, see https://docs.pyvista.org/version/stable/examples/02-plot/volume.html\n",
    "p.add_text(\"Volume\")\n",
    "\n",
    "p.subplot(0, 2)  # Select the third subplot\n",
    "p.add_mesh(\n",
    "    mesh, show_edges=True\n",
    ")  # show_edges=True is required to display the edges of the mesh\n",
    "p.add_text(\"Mesh\")\n",
    "\n",
    "p.show()\n",
    "\n",
    "# Alternative syntax to plot the mesh with edges\n",
    "#\n",
    "# p = pyvista.Plotter()\n",
    "# actor = p.add_mesh(mesh) <--- actor is a pyvista.core.common.Actor object\n",
    "# actor.prop.show_edges = True <--- you can access the properties with the prop attribute\n",
    "# p.show()\n",
    "#\n",
    "# In PyVista, add_mesh returns an actor object that corresponds to the rendering of the mesh\n",
    "# it is independant from the core mesh object and can be modified without modifying the mesh itself\n",
    "# see https://docs.pyvista.org/version/stable/plotting/plotting.html#mesh-plotting"
   ]
  },
  {
   "cell_type": "code",
   "execution_count": 3,
   "metadata": {},
   "outputs": [
    {
     "name": "stdout",
     "output_type": "stream",
     "text": [
      "Image is of type  <class 'vedo.picture.Picture'>\n",
      "Volume is of type  <class 'vedo.volume.Volume'>\n",
      "Mesh is of type  <class 'vedo.mesh.Mesh'>\n"
     ]
    }
   ],
   "source": [
    "import vedo\n",
    "\n",
    "vedo.settings.default_backend = \"vtk\"\n",
    "\n",
    "image = vedo.load(\"data/Tux.png\")\n",
    "volume = vedo.load(\"data/abdominal_xw_t2hastetra2stepmbh3202A.nii\")\n",
    "mesh = vedo.load(\"data/amygdala1.vtk\")\n",
    "\n",
    "print(\"Image is of type \", type(image))\n",
    "print(\"Volume is of type \", type(volume))\n",
    "print(\"Mesh is of type \", type(mesh))"
   ]
  },
  {
   "cell_type": "code",
   "execution_count": 5,
   "metadata": {},
   "outputs": [
    {
     "data": {
      "text/plain": [
       "<vedo.plotter.Plotter at 0x7ff01aba1d60>"
      ]
     },
     "execution_count": 5,
     "metadata": {},
     "output_type": "execute_result"
    }
   ],
   "source": [
    "plotter = vedo.Plotter(N=3, axes=0, sharecam=False, interactive=True)\n",
    "# N=3 means 3 subplots it is equivalent to shape=(1, 3)\n",
    "# Weird behavior if interactive is not set to True (the window is closed immediately after being opened)\n",
    "\n",
    "plotter.add(\"Image\", at=0)\n",
    "plotter.add(image, at=0)\n",
    "\n",
    "plotter.add(\"Image\", at=1)\n",
    "plotter.add(volume, at=1)\n",
    "\n",
    "mesh.linewidth(\n",
    "    1\n",
    ")  # Set the line width of the mesh to 1, note that in vedo the rendering properties are properties of the mesh\n",
    "# there is no distinction between the mesh and the actor\n",
    "plotter.add(\"Mesh\", at=2)\n",
    "plotter.add(mesh, at=2)\n",
    "\n",
    "plotter.show()\n",
    "# The text is not displayed as we want...\n",
    "\n",
    "# In vedo there is no distinction between the mesh and the actor\n",
    "# the rendering properties are properties of the mesh !"
   ]
  },
  {
   "attachments": {},
   "cell_type": "markdown",
   "metadata": {},
   "source": [
    "Two vedo scripts that does not do what we want to warn you about the use of vedo Plotter"
   ]
  },
  {
   "cell_type": "code",
   "execution_count": 7,
   "metadata": {},
   "outputs": [
    {
     "data": {
      "text/plain": [
       "<vedo.plotter.Plotter at 0x7f2aaad46790>"
      ]
     },
     "execution_count": 7,
     "metadata": {},
     "output_type": "execute_result"
    }
   ],
   "source": [
    "plotter = vedo.Plotter(shape=(1, 3), axes=0, sharecam=False, interactive=True)\n",
    "\n",
    "plotter.at(0).add(image)\n",
    "plotter.at(1).add(volume)\n",
    "plotter.at(2).add(mesh)\n",
    "\n",
    "plotter.show()\n",
    "# Only the mesh is displayed... it seems that plotter.at(i) make the subplot i as the current subplot\n",
    "# and when plotter.show() is called, only the current subplot is displayed"
   ]
  },
  {
   "cell_type": "code",
   "execution_count": null,
   "metadata": {},
   "outputs": [],
   "source": [
    "plotter = vedo.Plotter(shape=(1, 3), axes=0, sharecam=False, interactive=True)\n",
    "\n",
    "plotter.at(0).add(image)\n",
    "plotter.at(1).add(volume)\n",
    "plotter.at(2).add(mesh)\n",
    "\n",
    "plotter.at(0).show()\n",
    "plotter.at(1).show()\n",
    "plotter.at(2).show()\n",
    "# This solution works but we need to close the window manually two times\n",
    "# to have the three subplots displayed"
   ]
  }
 ],
 "metadata": {
  "kernelspec": {
   "display_name": "pyvista_presentation",
   "language": "python",
   "name": "python3"
  },
  "language_info": {
   "codemirror_mode": {
    "name": "ipython",
    "version": 3
   },
   "file_extension": ".py",
   "mimetype": "text/x-python",
   "name": "python",
   "nbconvert_exporter": "python",
   "pygments_lexer": "ipython3",
   "version": "3.8.10"
  },
  "orig_nbformat": 4,
  "vscode": {
   "interpreter": {
    "hash": "3aef563776c0941b406a686acb68c05e52eb2d250e80683d4c9fd2ea031b91ff"
   }
  }
 },
 "nbformat": 4,
 "nbformat_minor": 2
}

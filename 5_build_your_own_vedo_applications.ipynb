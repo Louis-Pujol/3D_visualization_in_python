{
 "cells": [
  {
   "attachments": {},
   "cell_type": "markdown",
   "metadata": {},
   "source": [
    "### Create your own vedo applications\n",
    "\n",
    "In this notebook, you will execute two applications that are defined in the folder applications. There are adaptations from the vedo application SplinePlotter and they allow the user to select points on a mesh (landmarks) or on a grid containing the mesh (control points) and to keep the 3D coordinates of the selected points after the applicatin is closed.\n",
    "\n",
    "Please note that there are experimental code and it may not work perfectly with other data than in this notebook, in particular the size of the sphere representing points is hardcoded and must be not suitable with other data, consider that if you need to use them, we will have to adapt the code.\n",
    "\n",
    "Take-home messages :\n",
    "- When you add callback corresponding to a keyboard press, be careful that many keys are used by vedo (press h on a vedo window to have a list) -> you can solve this by integrating your rendering in a Qt window (see )\n",
    "\n",
    "References :\n",
    "- for mastering callbacks/events, you must read the entries in the vedo doc : https://vedo.embl.es/docs/vedo/plotter.html#Plotter.add_callback\n",
    "- the vedo applications/gallery is the starting point to build your own applications"
   ]
  },
  {
   "cell_type": "code",
   "execution_count": 1,
   "metadata": {},
   "outputs": [],
   "source": [
    "import vedo\n",
    "\n",
    "vedo.settings.default_backend = \"vtk\"\n",
    "\n",
    "mesh = vedo.load(\"data/amygdala1.vtk\")"
   ]
  },
  {
   "cell_type": "code",
   "execution_count": 2,
   "metadata": {},
   "outputs": [
    {
     "data": {
      "text/plain": [
       "array([[146.61004006, 108.70031844,  60.09093628],\n",
       "       [145.8751923 , 112.48716823,  63.2257007 ],\n",
       "       [142.69934533, 114.2415676 ,  62.79371407],\n",
       "       [144.21573593, 115.51481188,  64.13363408],\n",
       "       [144.24151861, 113.79644843,  63.2012997 ],\n",
       "       [143.80301107, 112.64184039,  62.55415229],\n",
       "       [145.30499268, 115.58399963,  64.37809753],\n",
       "       [146.83000183, 115.47100067,  64.39730072],\n",
       "       [147.34700012, 117.53399658,  64.85359955],\n",
       "       [148.2559967 , 117.34100342,  64.84919739],\n",
       "       [149.97599792, 117.2559967 ,  64.83519745],\n",
       "       [148.82400513, 118.44400024,  65.38480377]])"
      ]
     },
     "execution_count": 2,
     "metadata": {},
     "output_type": "execute_result"
    }
   ],
   "source": [
    "from applications.landmarks import LandmarksSelector\n",
    "\n",
    "app = LandmarksSelector(mesh)\n",
    "app.start()  # show the app\n",
    "\n",
    "app.points()  # retrieve the points"
   ]
  },
  {
   "cell_type": "code",
   "execution_count": 3,
   "metadata": {},
   "outputs": [
    {
     "data": {
      "text/plain": [
       "array([[144.52567 , 118.69833 ,  48.6247  ],\n",
       "       [151.01933 , 118.69833 ,  60.380096],\n",
       "       [144.52567 , 111.86967 ,  54.5024  ],\n",
       "       [151.01933 , 111.86967 ,  60.380096],\n",
       "       [151.01933 , 111.86967 ,  54.5024  ]], dtype=float32)"
      ]
     },
     "execution_count": 3,
     "metadata": {},
     "output_type": "execute_result"
    }
   ],
   "source": [
    "from applications.control_points import ControlPointsSelector\n",
    "\n",
    "app = ControlPointsSelector(mesh, dim=4)\n",
    "app.start()  # show the app\n",
    "\n",
    "app.points()  # retrieve the points"
   ]
  }
 ],
 "metadata": {
  "kernelspec": {
   "display_name": "pyvista_presentation",
   "language": "python",
   "name": "python3"
  },
  "language_info": {
   "codemirror_mode": {
    "name": "ipython",
    "version": 3
   },
   "file_extension": ".py",
   "mimetype": "text/x-python",
   "name": "python",
   "nbconvert_exporter": "python",
   "pygments_lexer": "ipython3",
   "version": "3.8.10"
  },
  "orig_nbformat": 4,
  "vscode": {
   "interpreter": {
    "hash": "3aef563776c0941b406a686acb68c05e52eb2d250e80683d4c9fd2ea031b91ff"
   }
  }
 },
 "nbformat": 4,
 "nbformat_minor": 2
}

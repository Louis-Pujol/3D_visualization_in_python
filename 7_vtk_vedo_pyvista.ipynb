{
 "cells": [
  {
   "cell_type": "code",
   "execution_count": null,
   "metadata": {},
   "outputs": [],
   "source": []
  }
 ],
 "metadata": {
  "kernelspec": {
   "display_name": "pyvista_presentation",
   "language": "python",
   "name": "python3"
  },
  "language_info": {
   "name": "python",
   "version": "3.8.10"
  },
  "orig_nbformat": 4,
  "vscode": {
   "interpreter": {
    "hash": "3aef563776c0941b406a686acb68c05e52eb2d250e80683d4c9fd2ea031b91ff"
   }
  }
 },
 "nbformat": 4,
 "nbformat_minor": 2
}

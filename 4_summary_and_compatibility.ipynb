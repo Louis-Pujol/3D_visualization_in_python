{
 "cells": [
  {
   "attachments": {},
   "cell_type": "markdown",
   "metadata": {},
   "source": [
    "### Summary and conversion between Vedo and PyVista\n",
    "\n",
    "In this notebook you will find a summary of what we have seen so far about the opportunities that PyVista and Vedo offers for the analysis of geometrical data. In addition, I provide two small pieces of code to convert objects from PyVista to Vedo and the opposite.\n",
    "\n",
    "Both PyVista/Vedo can be used to work following the pipeline :\n",
    "- Load data\n",
    "- display\n",
    "- apply transformations\n",
    "- display the changes\n",
    "- save\n",
    "\n",
    "Some differences between both librairies :\n",
    "- PyVista has separate objects for data structures (PolyData, UniformGrid) and rendered objects (Actors)\n",
    "- Vedo objects (Mesh, Picture, Volume) contains both data and rendering information\n",
    "- Vedo natively treat operations on objects as inplace, consider using .clone() as many as possible to not erase some information\n",
    "\n",
    "My advice to you is to spend a few time to try them both and make your own opinion of which librairies offers you the most handful interface for your needs. Personnaly, I use both of them in different contexts :\n",
    "- For data manipulation and \"simple\" visualization : my preference goes to PyVista. I found it clearer to have a logical separation between the data structures and the rendering. Then I am more at ease with the default behaviour of PyVista filters (inplace=False) that is closer to what I am used to use with e.g. numerical librairies as Numpy or PyTorch.\n",
    "- For purely visualization purposes, I use Vedo. The default parameters of the Vedo .show() function leads to satisfying rendering for the data I have tested so far. Also, for interactiveness, Vedo offers way more possibilities than PyVista. The strength of Vedo is the ability to create very nice small applications to make the user of your code able to interact with data, this is the subject of the following notebooks to showcase you some possibilities.\n",
    "\n",
    "Have a look at this discussion between PyVista and Vedo developpers : https://github.com/pyvista/pyvista/discussions/3470\n",
    "\n"
   ]
  },
  {
   "cell_type": "code",
   "execution_count": 1,
   "metadata": {},
   "outputs": [
    {
     "data": {
      "text/plain": [
       "<vedo.plotter.Plotter at 0x7f6e28657730>"
      ]
     },
     "execution_count": 1,
     "metadata": {},
     "output_type": "execute_result"
    }
   ],
   "source": [
    "import pyvista\n",
    "import vedo\n",
    "vedo.settings.default_backend = \"vtk\"\n",
    "\n",
    "# Load a mesh in pyvista\n",
    "pyvista_mesh = pyvista.read(\"data/cow.vtk\")\n",
    "vedo_mesh = vedo.Mesh(pyvista_mesh) # convert to vedo\n",
    "\n",
    "vedo.show(vedo_mesh)"
   ]
  },
  {
   "cell_type": "code",
   "execution_count": 2,
   "metadata": {},
   "outputs": [
    {
     "data": {
      "application/vnd.jupyter.widget-view+json": {
       "model_id": "ca9fb83338074e67b48728e64627a059",
       "version_major": 2,
       "version_minor": 0
      },
      "text/plain": [
       "Widget(value=\"<iframe src='http://localhost:35193/index.html?ui=P_0x7f6e28657e50_0&reconnect=auto' style='widt…"
      ]
     },
     "metadata": {},
     "output_type": "display_data"
    }
   ],
   "source": [
    "# Load a mesh in vedo\n",
    "vedo_mesh = vedo.load(\"data/cow.vtk\")\n",
    "pyvista_mesh = pyvista.wrap(vedo_mesh.polydata()) # convert to pyvista\n",
    "\n",
    "pyvista_mesh.plot()"
   ]
  }
 ],
 "metadata": {
  "kernelspec": {
   "display_name": "pyvista_presentation",
   "language": "python",
   "name": "python3"
  },
  "language_info": {
   "codemirror_mode": {
    "name": "ipython",
    "version": 3
   },
   "file_extension": ".py",
   "mimetype": "text/x-python",
   "name": "python",
   "nbconvert_exporter": "python",
   "pygments_lexer": "ipython3",
   "version": "3.8.10"
  },
  "orig_nbformat": 4,
  "vscode": {
   "interpreter": {
    "hash": "3aef563776c0941b406a686acb68c05e52eb2d250e80683d4c9fd2ea031b91ff"
   }
  }
 },
 "nbformat": 4,
 "nbformat_minor": 2
}

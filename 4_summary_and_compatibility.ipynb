{
 "cells": [
  {
   "attachments": {},
   "cell_type": "markdown",
   "metadata": {},
   "source": [
    "Both PyVista/Vedo can be used to work following the pipeline :\n",
    "- Load data\n",
    "- display\n",
    "- apply transformations\n",
    "- display the changes\n",
    "- save\n",
    "\n",
    "Some differences between both librairies :\n",
    "- PyVista has separate objects for data structures (PolyData, UniformGrid) and rendered objects (Actors)\n",
    "- Vedo objects (Mesh, Picture, Volume) contains both data and rendering information\n",
    "- Vedo natively treat operations on objects as inplace, consider using .clone() as many as possible to not erase some information\n",
    "\n",
    "Have a look at this discussion between PyVista and Vedo developpers : https://github.com/pyvista/pyvista/discussions/3470\n",
    "\n",
    "Conversion between Vedo and PyVista objects are possible :"
   ]
  },
  {
   "cell_type": "code",
   "execution_count": 1,
   "metadata": {},
   "outputs": [
    {
     "data": {
      "text/plain": [
       "<vedo.plotter.Plotter at 0x7f91f86a0b20>"
      ]
     },
     "execution_count": 1,
     "metadata": {},
     "output_type": "execute_result"
    }
   ],
   "source": [
    "import pyvista\n",
    "import vedo\n",
    "vedo.settings.default_backend = \"vtk\"\n",
    "\n",
    "# Load a mesh in pyvista\n",
    "pyvista_mesh = pyvista.read(\"data/cow.vtk\")\n",
    "vedo_mesh = vedo.Mesh(\"data/cow.vtk\") # convert to vedo\n",
    "\n",
    "vedo.show(vedo_mesh)"
   ]
  },
  {
   "cell_type": "code",
   "execution_count": 2,
   "metadata": {},
   "outputs": [
    {
     "data": {
      "application/vnd.jupyter.widget-view+json": {
       "model_id": "7030097c97c744aa9b61d1e7aa845300",
       "version_major": 2,
       "version_minor": 0
      },
      "text/plain": [
       "Widget(value=\"<iframe src='http://localhost:43219/index.html?ui=P_0x7f91f8685250_0&reconnect=auto' style='widt…"
      ]
     },
     "metadata": {},
     "output_type": "display_data"
    }
   ],
   "source": [
    "# Load a mesh in vedo\n",
    "vedo_mesh = vedo.load(\"data/cow.vtk\")\n",
    "pyvista_mesh = pyvista.wrap(vedo_mesh.polydata()) # convert to pyvista\n",
    "\n",
    "pyvista_mesh.plot()"
   ]
  }
 ],
 "metadata": {
  "kernelspec": {
   "display_name": "pyvista_presentation",
   "language": "python",
   "name": "python3"
  },
  "language_info": {
   "codemirror_mode": {
    "name": "ipython",
    "version": 3
   },
   "file_extension": ".py",
   "mimetype": "text/x-python",
   "name": "python",
   "nbconvert_exporter": "python",
   "pygments_lexer": "ipython3",
   "version": "3.8.10"
  },
  "orig_nbformat": 4,
  "vscode": {
   "interpreter": {
    "hash": "3aef563776c0941b406a686acb68c05e52eb2d250e80683d4c9fd2ea031b91ff"
   }
  }
 },
 "nbformat": 4,
 "nbformat_minor": 2
}

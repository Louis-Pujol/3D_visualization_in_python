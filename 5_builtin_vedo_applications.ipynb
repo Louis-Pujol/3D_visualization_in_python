{
 "cells": [
  {
   "attachments": {},
   "cell_type": "markdown",
   "metadata": {},
   "source": [
    "### Built-in vedo applications\n",
    "\n",
    "Vedo come with an impressive gallery of examples, have a look at these on their website : https://vedo.embl.es/\n",
    "A good way to use vedo is to copy/paste code of one of them and modify it to make it run on your data. A powerful feature of vedo is the applications module https://vedo.embl.es/docs/vedo/applications.html, it provides you ready-to-use applications that can be useful for scientific visualization, this notebooks presents some examples\n",
    "\n",
    "Take-home message :\n",
    "- Vedo offers incredible visualization/interaction tools"
   ]
  },
  {
   "cell_type": "code",
   "execution_count": 1,
   "metadata": {},
   "outputs": [
    {
     "data": {
      "text/plain": [
       "<vedo.applications.Browser at 0x7f583f2e0070>"
      ]
     },
     "execution_count": 1,
     "metadata": {},
     "output_type": "execute_result"
    }
   ],
   "source": [
    "import vedo\n",
    "\n",
    "vedo.settings.default_backend = \"vtk\"\n",
    "import pyvista.examples\n",
    "\n",
    "mesh = vedo.load(\n",
    "    vedo.dataurl + \"beethoven.ply\"\n",
    ")  # Load a mesh from vedo data repository\n",
    "meshes = [\n",
    "    mesh.clone().triangulate().decimate(a) for a in [0.9, 0.5, 0.1, 0.05, 0.01]\n",
    "]  # Compute a sequence of decimated meshes\n",
    "\n",
    "application = vedo.applications.Browser(\n",
    "    meshes\n",
    ")  # Create a Browser application with the sequence of meshes\n",
    "application.show()  # Here we must call .show() to start the rendering window"
   ]
  },
  {
   "cell_type": "code",
   "execution_count": 4,
   "metadata": {},
   "outputs": [
    {
     "data": {
      "text/plain": [
       "<vedo.applications.Slicer3DPlotter at 0x7f58a0457520>"
      ]
     },
     "execution_count": 4,
     "metadata": {},
     "output_type": "execute_result"
    }
   ],
   "source": [
    "volume = vedo.load(\"data/abdominal_xw_t2hastetra2stepmbh3202A.nii\")\n",
    "vedo.applications.Slicer3DPlotter(volume)\n",
    "# Here we do not need to call .show()"
   ]
  },
  {
   "cell_type": "code",
   "execution_count": 5,
   "metadata": {},
   "outputs": [
    {
     "name": "stdout",
     "output_type": "stream",
     "text": [
      "Added point: (-1.283, -2.457, 1.559)\n",
      "Added point: (0.3591, -2.210, 1.888)\n",
      "Added point: (0.08611, -1.160, 0.6247)\n",
      "Added point: (1.556, -1.110, 1.200)\n",
      "Added point: (1.860, -2.467, 1.090)\n",
      "Added point: (1.252, -4.379, 1.871)\n",
      "Added point: (-0.7241, -4.890, 2.077)\n",
      "Added point: (-2.572, -4.062, 1.102)\n",
      "Added point: (-2.554, -3.310, 1.031)\n",
      "Added point: (-2.480, -2.160, 0.8337)\n",
      "Added point: (-2.102, -1.654, 0.7173)\n",
      "Added point: (-1.689, -1.312, 1.032)\n",
      "Added point: (-1.154, -0.6328, 0.8804)\n",
      "Added point: (-1.063, 0.08840, 0.9693)\n",
      "Added point: (-1.021, 0.6903, 1.410)\n",
      "Added point: (-0.9968, 1.079, 1.722)\n",
      "Added point: (-0.6531, 1.760, 2.146)\n",
      "Added point: (-0.2919, 1.896, 2.472)\n",
      "Added point: (-0.04921, 1.484, 2.468)\n",
      "Added point: (-0.03735, 0.9769, 2.479)\n",
      "Added point: (0.05666, 0.6475, 2.123)\n",
      "Added point: (0.4558, 0.5886, 1.894)\n",
      "Added point: (0.9481, 1.157, 1.802)\n",
      "Added point: (0.9373, 1.960, 2.198)\n",
      "Added point: (0.6114, 2.218, 2.591)\n",
      "Added point: (0.1907, 2.503, 2.684)\n",
      "Added point: (-0.3029, 2.534, 2.682)\n",
      "Added point: (-0.5561, 2.488, 2.654)\n",
      "Added point: (-0.9631, 2.121, 2.347)\n",
      "Added point: (-1.246, 2.026, 1.682)\n",
      "Added point: (-1.674, 2.084, 1.235)\n",
      "Added point: (-1.728, 2.401, 1.640)\n",
      "Added point: (-1.230, 3.089, 2.091)\n",
      "Deleted last point\n",
      "Deleted last point\n",
      "Deleted last point\n",
      "Deleted last point\n",
      "Deleted last point\n",
      "[[-1.28335147 -2.45748889  1.559029  ]\n",
      " [ 0.35912651 -2.21001295  1.88792686]\n",
      " [ 0.0861146  -1.15960109  0.62472932]\n",
      " [ 1.55578459 -1.11038288  1.20029388]\n",
      " [ 1.85989092 -2.46660466  1.09036189]\n",
      " [ 1.2521106  -4.37850387  1.87080559]\n",
      " [-0.72410246 -4.88981168  2.07707775]\n",
      " [-2.57219212 -4.06188948  1.10238486]\n",
      " [-2.55397742 -3.30963115  1.03118999]\n",
      " [-2.48013255 -2.15950433  0.83369209]\n",
      " [-2.10192293 -1.65418225  0.71728997]\n",
      " [-1.68857876 -1.31190363  1.03157714]\n",
      " [-1.15418776 -0.63284483  0.88042471]\n",
      " [-1.06341374  0.08840492  0.9692603 ]\n",
      " [-1.02126221  0.69025659  1.40995668]\n",
      " [-0.99684432  1.07929729  1.72245503]\n",
      " [-0.65307989  1.76020332  2.14560362]\n",
      " [-0.29185629  1.89614755  2.47163834]\n",
      " [-0.04920865  1.48449521  2.46830129]\n",
      " [-0.03735035  0.97685008  2.47868606]\n",
      " [ 0.05665844  0.6474753   2.12308879]\n",
      " [ 0.45582501  0.5885918   1.89394936]\n",
      " [ 0.94805826  1.15744063  1.8016325 ]\n",
      " [ 0.93731191  1.96009806  2.19836134]\n",
      " [ 0.61139382  2.21767195  2.59069465]\n",
      " [ 0.19066155  2.5031412   2.68382806]\n",
      " [-0.30288259  2.53365001  2.68182546]\n",
      " [-0.55609176  2.48810101  2.65430156]]\n"
     ]
    }
   ],
   "source": [
    "application = vedo.applications.SplinePlotter(mesh.c(\"blue\").alpha(0.5))\n",
    "application.start()\n",
    "\n",
    "print(application.points())"
   ]
  }
 ],
 "metadata": {
  "kernelspec": {
   "display_name": "pyvista_presentation",
   "language": "python",
   "name": "python3"
  },
  "language_info": {
   "codemirror_mode": {
    "name": "ipython",
    "version": 3
   },
   "file_extension": ".py",
   "mimetype": "text/x-python",
   "name": "python",
   "nbconvert_exporter": "python",
   "pygments_lexer": "ipython3",
   "version": "3.8.10"
  },
  "orig_nbformat": 4,
  "vscode": {
   "interpreter": {
    "hash": "3aef563776c0941b406a686acb68c05e52eb2d250e80683d4c9fd2ea031b91ff"
   }
  }
 },
 "nbformat": 4,
 "nbformat_minor": 2
}

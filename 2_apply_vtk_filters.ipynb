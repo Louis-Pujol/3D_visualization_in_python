{
 "cells": [
  {
   "attachments": {},
   "cell_type": "markdown",
   "metadata": {},
   "source": [
    "### Apply some filters\n",
    "\n",
    "In this notebook we will apply two filters available in VTK and display filtered objects.\n",
    "\n",
    "- Triangulate : convert a non triangular surface mesh to a triangular mesh\n",
    "- Decimate : lower the resolution of the mesh\n",
    "\n",
    "Take-home message:\n",
    "- A lot of VTK filters and operations are exposed on pyVista and VTK\n",
    "- Be aware that vedo operates in place modification of the mesh when applying a filter (see two last cells of this notebook)\n",
    "\n",
    "References :\n",
    "- In pyVista doc, there is a filter entry to see the list of filters available for each data type : https://docs.pyvista.org/version/stable/api/core/filters.html\n",
    "- In Vedo, you must find them on the documentation specific to each object type : https://vedo.embl.es/docs/vedo/mesh.html https://vedo.embl.es/docs/vedo/picture.html https://vedo.embl.es/docs/vedo/volume.html\n",
    "- You can also have a look at the vtk documentation to have an idea of existing vtk fikters (some may not be intergrated to PyVista and Vedo) : https://vtk.org/documentation/"
   ]
  },
  {
   "cell_type": "code",
   "execution_count": 1,
   "metadata": {},
   "outputs": [
    {
     "data": {
      "application/vnd.jupyter.widget-view+json": {
       "model_id": "0afa8ff219aa4cda87e21d493928a27b",
       "version_major": 2,
       "version_minor": 0
      },
      "text/plain": [
       "Widget(value=\"<iframe src='http://localhost:40417/index.html?ui=P_0x7f9195bd8310_0&reconnect=auto' style='widt…"
      ]
     },
     "metadata": {},
     "output_type": "display_data"
    }
   ],
   "source": [
    "import pyvista\n",
    "\n",
    "cow = pyvista.read(\"data/cow.vtk\")\n",
    "triangulated_cow = cow.triangulate()  # Triangulate the mesh\n",
    "decimated_cow = triangulated_cow.decimate(0.9)  # Decimate the mesh\n",
    "\n",
    "# In Pyvista, filters are exposed as methods on the mesh object.\n",
    "# By default, they do not modify the original mesh, but return a new mesh.\n",
    "# This behaviour can be changed by passing `inplace=True` to the method.\n",
    "\n",
    "p = pyvista.Plotter(shape=(1, 3))\n",
    "\n",
    "p.subplot(0, 0)\n",
    "p.add_mesh(cow, show_edges=True)\n",
    "p.add_text(\"Original\")\n",
    "\n",
    "p.subplot(0, 1)\n",
    "p.add_mesh(triangulated_cow, show_edges=True)\n",
    "p.add_text(\"Triangulated\")\n",
    "\n",
    "p.subplot(0, 2)\n",
    "p.add_mesh(decimated_cow, show_edges=True)\n",
    "p.add_text(\"Decimated\")\n",
    "\n",
    "p.show()"
   ]
  },
  {
   "cell_type": "code",
   "execution_count": 2,
   "metadata": {},
   "outputs": [
    {
     "data": {
      "text/plain": [
       "<vedo.plotter.Plotter at 0x7f91d47c46d0>"
      ]
     },
     "execution_count": 2,
     "metadata": {},
     "output_type": "execute_result"
    }
   ],
   "source": [
    "import vedo\n",
    "\n",
    "vedo.settings.default_backend = \"vtk\"\n",
    "cow = vedo.load(\"data/cow.vtk\")\n",
    "\n",
    "plotter = vedo.Plotter(shape=(1, 3), axes=0, sharecam=False, interactive=True)\n",
    "\n",
    "plotter.add(cow.linewidth(1), at=0)\n",
    "plotter.add(cow.clone().triangulate(), at=1)\n",
    "plotter.add(cow.clone().triangulate().decimate(0.1), at=2)\n",
    "\n",
    "# In Vedo, filters are exposed as methods on the mesh object.\n",
    "# Be careful, as they modify the original mesh, and there is no way to revert the changes.\n",
    "# To avoid this, you can clone the mesh before applying the filter.\n",
    "# In general, if you work with vedo, you should use a lot of clones !\n",
    "\n",
    "plotter.show()"
   ]
  },
  {
   "cell_type": "code",
   "execution_count": 4,
   "metadata": {},
   "outputs": [
    {
     "data": {
      "text/plain": [
       "<vedo.plotter.Plotter at 0x7f6a8bc3f100>"
      ]
     },
     "execution_count": 4,
     "metadata": {},
     "output_type": "execute_result"
    }
   ],
   "source": [
    "# Mistake: forgetting to clone the mesh\n",
    "\n",
    "import vedo\n",
    "\n",
    "cow = vedo.load(\"data/cow.vtk\")\n",
    "\n",
    "plotter = vedo.Plotter(shape=(1, 3), axes=0, sharecam=False, interactive=True)\n",
    "\n",
    "plotter.add(cow.linewidth(1), at=0)\n",
    "plotter.add(cow.triangulate(), at=1)\n",
    "plotter.add(cow.triangulate().decimate(0.1), at=2)\n",
    "\n",
    "plotter.show()"
   ]
  },
  {
   "cell_type": "code",
   "execution_count": 5,
   "metadata": {},
   "outputs": [
    {
     "ename": "NameError",
     "evalue": "name 'pyvista' is not defined",
     "output_type": "error",
     "traceback": [
      "\u001b[0;31m---------------------------------------------------------------------------\u001b[0m",
      "\u001b[0;31mNameError\u001b[0m                                 Traceback (most recent call last)",
      "Cell \u001b[0;32mIn[5], line 3\u001b[0m\n\u001b[1;32m      1\u001b[0m \u001b[39m# Same mistake in Pyvista\u001b[39;00m\n\u001b[0;32m----> 3\u001b[0m cow \u001b[39m=\u001b[39m pyvista\u001b[39m.\u001b[39mexamples\u001b[39m.\u001b[39mdownload_cow()\n\u001b[1;32m      5\u001b[0m p \u001b[39m=\u001b[39m pyvista\u001b[39m.\u001b[39mPlotter(shape\u001b[39m=\u001b[39m(\u001b[39m1\u001b[39m, \u001b[39m3\u001b[39m))\n\u001b[1;32m      7\u001b[0m p\u001b[39m.\u001b[39msubplot(\u001b[39m0\u001b[39m, \u001b[39m0\u001b[39m)\n",
      "\u001b[0;31mNameError\u001b[0m: name 'pyvista' is not defined"
     ]
    }
   ],
   "source": [
    "# Same mistake in Pyvista\n",
    "cow = pyvista.read(\"data/cow.vtk\")\n",
    "\n",
    "p = pyvista.Plotter(shape=(1, 3))\n",
    "\n",
    "p.subplot(0, 0)\n",
    "p.add_mesh(cow, show_edges=True)\n",
    "p.add_text(\"Original\")\n",
    "\n",
    "p.subplot(0, 1)\n",
    "p.add_mesh(cow.triangulate(inplace=True), show_edges=True)\n",
    "p.add_text(\"Triangulated\")\n",
    "\n",
    "p.subplot(0, 2)\n",
    "p.add_mesh(cow.decimate(0.9, inplace=True), show_edges=True)\n",
    "p.add_text(\"Decimated\")\n",
    "\n",
    "p.show()"
   ]
  }
 ],
 "metadata": {
  "kernelspec": {
   "display_name": "pyvista_presentation",
   "language": "python",
   "name": "python3"
  },
  "language_info": {
   "codemirror_mode": {
    "name": "ipython",
    "version": 3
   },
   "file_extension": ".py",
   "mimetype": "text/x-python",
   "name": "python",
   "nbconvert_exporter": "python",
   "pygments_lexer": "ipython3",
   "version": "3.8.10"
  },
  "orig_nbformat": 4,
  "vscode": {
   "interpreter": {
    "hash": "3aef563776c0941b406a686acb68c05e52eb2d250e80683d4c9fd2ea031b91ff"
   }
  }
 },
 "nbformat": 4,
 "nbformat_minor": 2
}
